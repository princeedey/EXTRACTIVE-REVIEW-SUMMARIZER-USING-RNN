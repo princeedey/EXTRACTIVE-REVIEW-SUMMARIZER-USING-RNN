{
  "nbformat": 4,
  "nbformat_minor": 0,
  "metadata": {
    "colab": {
      "name": "Neural.ipynb",
      "provenance": [],
      "authorship_tag": "ABX9TyPF4kqCmvF+mxVAVPUeob3S",
      "include_colab_link": true
    },
    "kernelspec": {
      "name": "python2",
      "display_name": "Python 2"
    }
  },
  "cells": [
    {
      "cell_type": "markdown",
      "metadata": {
        "id": "view-in-github",
        "colab_type": "text"
      },
      "source": [
        "<a href=\"https://colab.research.google.com/github/princeedey/EXTRACTIVE-REVIEW-SUMMARIZER-USING-RNN/blob/main/Neural.ipynb\" target=\"_parent\"><img src=\"https://colab.research.google.com/assets/colab-badge.svg\" alt=\"Open In Colab\"/></a>"
      ]
    },
    {
      "cell_type": "code",
      "metadata": {
        "id": "jpHOPwineJpC",
        "colab": {
          "base_uri": "https://localhost:8080/",
          "height": 34
        },
        "outputId": "54031bfe-5fe1-4494-b0fd-72fca6993f2e"
      },
      "source": [
        "from google.colab import drive\n",
        "drive.mount('/content/gdrive')\n"
      ],
      "execution_count": null,
      "outputs": [
        {
          "output_type": "stream",
          "text": [
            "Mounted at /content/gdrive\n"
          ],
          "name": "stdout"
        }
      ]
    },
    {
      "cell_type": "code",
      "metadata": {
        "id": "DUBlGakoeeBw"
      },
      "source": [
        "import os\n",
        "import pickle\n",
        "dicto = { 'Test1': 1, 'Test2': 2, 'Test3': 3 }\n",
        "filename = \"test_pkl_2.pkl\"\n",
        "with open(filename,'wb') as file:\n",
        "      pickle.dump(dicto, file)\n",
        "file.close()   \n",
        "\n"
      ],
      "execution_count": null,
      "outputs": []
    },
    {
      "cell_type": "code",
      "metadata": {
        "id": "GIRGtYxkjw4L"
      },
      "source": [
        "import csv\n",
        "from six.moves import cPickle as pickle\n",
        "import numpy as np\n",
        "x = []\n",
        "with open('/content/gdrive/My Drive/Amazon.csv','r') as f:\n",
        "     reader = csv.reader(f)  \n",
        "     for line in reader: x.append(line)\n",
        "with open('/content/test_pkl_2.pkl','w') as f:\n",
        "     pickle.dump(x, f, pickle.HIGHEST_PROTOCOL)"
      ],
      "execution_count": null,
      "outputs": []
    },
    {
      "cell_type": "code",
      "metadata": {
        "id": "3FkBkRvIkwme",
        "colab": {
          "base_uri": "https://localhost:8080/",
          "height": 85
        },
        "outputId": "3a380fd4-59c3-4a22-d10b-d0b95aca7d6a"
      },
      "source": [
        "import pandas as pd\n",
        "from nltk.corpus import re\n",
        "from nltk.corpus import stopwords\n",
        "import pickle\n",
        "import nltk\n",
        "nltk.download('stopwords')\n",
        "from keras.models import Sequential\n",
        "from keras.layers import Dense\n",
        "batch_size = 64\n",
        "epochs = 110\n",
        "latent_dim = 256\n",
        "num_samples = 10000\n",
        "stories =  pickle.load(open('/content/test_pkl_2.pkl', 'rb')) \n",
        "print('Loaded Stories %d' % len(stories))\n",
        "print(type(stories))\n"
      ],
      "execution_count": null,
      "outputs": [
        {
          "output_type": "stream",
          "text": [
            "[nltk_data] Downloading package stopwords to /root/nltk_data...\n",
            "[nltk_data]   Package stopwords is already up-to-date!\n",
            "Loaded Stories 568455\n",
            "<type 'list'>\n"
          ],
          "name": "stdout"
        }
      ]
    },
    {
      "cell_type": "code",
      "metadata": {
        "id": "jEHDuzOclAxM",
        "colab": {
          "base_uri": "https://localhost:8080/",
          "height": 156
        },
        "outputId": "fd9a4bed-ee2c-4bd9-bddc-c7125ca6f74e"
      },
      "source": [
        "#Vectorize\n",
        "input_texts = []\n",
        "target_texts = []\n",
        "input_characters = set()\n",
        "target_characters = set()\n",
        "for story in stories:\n",
        "    input_text = story[9]\n",
        "    for highlight in story[8]:\n",
        "        target_text = highlight# We use \"tab\" as the \"start sequence\"\n",
        "#character# for the targets, and \"\\n\" as \"end sequence\"\n",
        "        target_text = '\\t' + target_text + '\\n'\n",
        "    input_texts.append(input_text)\n",
        "    target_texts.append(target_text)\n",
        "    for char in input_text:\n",
        "        if char not in input_characters:input_characters.add(char)\n",
        "        for char in target_text:\n",
        "             if char not in target_characters:\n",
        "                 target_characters.add(char)\n",
        "input_characters = sorted(list(input_characters))\n",
        "target_characters = sorted(list(target_characters))\n",
        "print(input_characters)\n",
        "print(target_characters)\n",
        "num_encoder_tokens = len(input_characters)\n",
        "num_decoder_tokens = len(target_characters)\n",
        "max_encoder_seq_length = max([len(txt) for txt in input_texts])\n",
        "max_decoder_seq_length = max([len(txt) for txt in target_texts])\n",
        "print('Number of samples:', len(input_texts))\n",
        "print('Number of unique input tokens:', num_encoder_tokens)\n",
        "print('Number of unique output tokens:', num_decoder_tokens)\n",
        "print('Max sequence length for inputs:', max_encoder_seq_length)\n",
        "print('Max sequence length for outputs:', max_decoder_seq_length)"
      ],
      "execution_count": null,
      "outputs": [
        {
          "output_type": "stream",
          "text": [
            "['\\x06', '\\x07', '\\x0c', '\\x0f', '\\x10', '\\x13', ' ', '!', '\"', '#', '$', '%', '&', \"'\", '(', ')', '*', '+', ',', '-', '.', '/', '0', '1', '2', '3', '4', '5', '6', '7', '8', '9', ':', ';', '<', '=', '>', '?', '@', 'A', 'B', 'C', 'D', 'E', 'F', 'G', 'H', 'I', 'J', 'K', 'L', 'M', 'N', 'O', 'P', 'Q', 'R', 'S', 'T', 'U', 'V', 'W', 'X', 'Y', 'Z', '[', '\\\\', ']', '^', '_', '`', 'a', 'b', 'c', 'd', 'e', 'f', 'g', 'h', 'i', 'j', 'k', 'l', 'm', 'n', 'o', 'p', 'q', 'r', 's', 't', 'u', 'v', 'w', 'x', 'y', 'z', '{', '|', '}', '~', '\\x82', '\\x83', '\\x87', '\\x8c', '\\x8e', '\\x97', '\\x99', '\\x9e', '\\xa2', '\\xa3', '\\xa5', '\\xa6', '\\xa7', '\\xa8', '\\xa9', '\\xaa', '\\xab', '\\xac', '\\xad', '\\xae', '\\xaf', '\\xb0', '\\xb1', '\\xb2', '\\xb4', '\\xb5', '\\xb7', '\\xb8', '\\xba', '\\xbb', '\\xbc', '\\xbd', '\\xbe', '\\xc2', '\\xc3']\n",
            "['\\t', '\\n', '!', '\"', '#', '$', '%', '&', \"'\", '(', ')', '*', '+', ',', '-', '.', '/', '0', '1', '2', '3', '4', '5', '6', '7', '8', '9', ':', ';', '=', '>', '?', '@', 'A', 'B', 'C', 'D', 'E', 'F', 'G', 'H', 'I', 'J', 'K', 'L', 'M', 'N', 'O', 'P', 'Q', 'R', 'S', 'T', 'U', 'V', 'W', 'X', 'Y', 'Z', '\\\\', ']', '^', '_', '`', 'a', 'b', 'c', 'd', 'e', 'f', 'g', 'h', 'i', 'j', 'k', 'l', 'm', 'n', 'o', 'p', 'q', 'r', 's', 't', 'u', 'v', 'w', 'x', 'y', 'z', '{', '}', '~', '\\xae', '\\xbb']\n",
            "('Number of samples:', 568455)\n",
            "('Number of unique input tokens:', 136)\n",
            "('Number of unique output tokens:', 95)\n",
            "('Max sequence length for inputs:', 21409)\n",
            "('Max sequence length for outputs:', 3)\n"
          ],
          "name": "stdout"
        }
      ]
    },
    {
      "cell_type": "code",
      "metadata": {
        "id": "V4ec9i1-qvmx"
      },
      "source": [
        "def define_models(n_input, n_output, n_units):\n",
        "# define training encoder\n",
        "   encoder_inputs = Input(shape=(None, n_input))\n",
        "   encoder = LSTM(n_units, return_state=True)\n",
        "   encoder_outputs, state_h, state_c = encoder(encoder_inputs)\n",
        "   encoder_states = [state_h, state_c]\n",
        "# define training decoder\n",
        "   decoder_inputs = Input(shape=(None, n_output))\n",
        "   decoder_lstm = LSTM(n_units, return_sequences=True, return_state=True)\n",
        "   decoder_outputs, _, _ = decoder_lstm(decoder_inputs,initial_state=encoder_states)\n",
        "   decoder_dense = Dense(n_output, activation='softmax')\n",
        "   decoder_outputs = decoder_dense(decoder_outputs)\n",
        "   model = Model([encoder_inputs, decoder_inputs], decoder_outputs)\n",
        "# define inference encoder\n",
        "   encoder_model = Model(encoder_inputs, encoder_states)\n",
        "# define inference decoder\n",
        "   decoder_state_input_h = Input(shape=(n_units,))\n",
        "   decoder_state_input_c = Input(shape=(n_units,))\n",
        "   decoder_states_inputs = [decoder_state_input_h, decoder_state_input_c]\n",
        "   decoder_outputs, state_h, state_c = decoder_lstm(decoder_inputs,initial_state=decoder_states_inputs)\n",
        "   decoder_states = [state_h, state_c]\n",
        "   decoder_outputs = decoder_dense(decoder_outputs)\n",
        "   decoder_model = Model([decoder_inputs] + decoder_states_inputs,[decoder_outputs] + decoder_states)\n",
        "# return all models\n",
        "   return model, encoder_model, decoder_model"
      ],
      "execution_count": null,
      "outputs": []
    },
    {
      "cell_type": "code",
      "metadata": {
        "id": "z0k2A5k1rVOy"
      },
      "source": [
        "def predict_sequence(infenc, infdec, source, n_steps, cardinality):\n",
        "    encodestate = infenc.predict(source)# start of sequence input\n",
        "    target_seq = array([0.0 for _ in range(cardinality)]).reshape(1, 1, cardinality)# collect predictions\n",
        "    output = list()\n",
        "    for t in range(n_steps):# predict next char\n",
        "          yhat, h, c = infdec.predict([target_seq] + state)# store prediction\n",
        "          output.append(yhat[0,0,:])# update state\n",
        "          state = [h, c]# update target sequence\n",
        "          target_seq = yhat\n",
        "          return array(output)"
      ],
      "execution_count": null,
      "outputs": []
    },
    {
      "cell_type": "code",
      "metadata": {
        "id": "oa_CJkCasFSn"
      },
      "source": [
        "contractions = {\"ain't\": \"am not\",\"aren't\": \"are not\",\"can't\":\"cannot\",\"can't've\": \"cannot have\",\"'cause\": \"because\",\"could've\": \"couldhave\",\"couldn't\": \"could not\",\"couldn't've\": \"could not have\",\"didn't\": \"did not\",\"doesn't\": \"does not\",\"don't\": \"do not\",\"hadn't\": \"had not\",\"hadn't've\": \"had not have\",\"hasn't\": \"has not\",\"haven't\": \"have not\",\"he'd\": \"he would\",\"he'd've\": \"he would have\"}\n",
        "def clean_text(text, remove_stopwords=True):# Convert words to lower case\n",
        "    text = text.lower()\n",
        "#if True:text = text.split()\n",
        "    new_text = []\n",
        "    for word in text:\n",
        "        if word in contractions:\n",
        "             new_text.append(contractions[word])\n",
        "        else:\n",
        "             new_text.append(word)\n",
        "        text = \" \".join(new_text)\n",
        "        text = re.sub(r'https?:\\/\\/.*[\\r\\n]*', '', text, flags=re.MULTILINE)\n",
        "        text = re.sub(r'\\<a href', ' ', text)\n",
        "        text = re.sub(r'&amp;', '', text)\n",
        "        text = re.sub(r'[_\"\\-;%()|+&=*%.,!?:#$@\\[\\]/]', ' ', text)\n",
        "        text = re.sub(r'<br />', ' ', text)\n",
        "        text = re.sub(r'\\'', ' ', text)\n",
        "        if remove_stopwords:\n",
        "             text = text.split()\n",
        "             stops = set(stopwords.words(\"english\"))\n",
        "             text = [w for w in text if not w in stops]\n",
        "             text = \" \".join(text)\n",
        "        return text\n"
      ],
      "execution_count": null,
      "outputs": []
    },
    {
      "cell_type": "code",
      "metadata": {
        "id": "P-LAwcTWtJAW",
        "colab": {
          "base_uri": "https://localhost:8080/",
          "height": 34
        },
        "outputId": "ec6adb71-60b4-4006-d118-f7a24663c1f3"
      },
      "source": [
        "clean_summaries = []\n",
        "for summary in reviews.Summary:clean_summaries.append(clean_text(summary,\n",
        "remove_stopwords=False))\n",
        "print(\"Summaries are complete.\")\n",
        "clean_texts = []\n",
        "# for text in reviews.Text:\n",
        "# clean_texts.append(clean_text(text))\n",
        "# print(\"Texts are complete.\")\n",
        "stories = list()\n",
        "for i, text in enumerate(clean_summaries):\n",
        "       stories.append({'story': text, 'highlights': clean_summaries[i]})# save\n",
        "#to file\n",
        "pickle.dump(stories, open('review_dataset.pkl', 'wb'))\n"
      ],
      "execution_count": null,
      "outputs": [
        {
          "output_type": "stream",
          "text": [
            "Summaries are complete.\n"
          ],
          "name": "stdout"
        }
      ]
    },
    {
      "cell_type": "code",
      "metadata": {
        "id": "dpFxtM7rrqa7",
        "colab": {
          "base_uri": "https://localhost:8080/",
          "height": 1000
        },
        "outputId": "6357562a-a7b7-494a-faa7-6cb1882feb84"
      },
      "source": [
        "import pandas as pd\n",
        "from nltk.corpus import re\n",
        "from nltk.corpus import stopwords\n",
        "import pickle\n",
        "import nltk\n",
        "nltk.download('stopwords')\n",
        "reviews = pd.read_csv(\"/content/gdrive/My Drive/Amazon.csv\")\n",
        "print(reviews.shape)\n",
        "print(reviews.head())\n",
        "print(reviews.isnull().sum())\n",
        "reviews = reviews.dropna()\n",
        "reviews = reviews.drop(['Id','ProductId','UserId','ProfileName','HelpfulnessNumerator','HelpfulnessDenominator', 'Score','Time'], 1)\n",
        "reviews = reviews.reset_index(drop=True)\n",
        "print(reviews.head())\n",
        "for i in range(5):\n",
        "    print(\"Review #\",i+1)\n",
        "    print(reviews.Summary[i])\n",
        "    print(reviews.Text[i])\n",
        "    print()\n"
      ],
      "execution_count": null,
      "outputs": [
        {
          "output_type": "stream",
          "text": [
            "[nltk_data] Downloading package stopwords to /root/nltk_data...\n",
            "[nltk_data]   Package stopwords is already up-to-date!\n",
            "(568454, 10)\n",
            "   Id   ProductId          UserId                      ProfileName  \\\n",
            "0   1  B001E4KFG0  A3SGXH7AUHU8GW                       delmartian   \n",
            "1   2  B00813GRG4  A1D87F6ZCVE5NK                           dll pa   \n",
            "2   3  B000LQOCH0   ABXLMWJIXXAIN  Natalia Corres \"Natalia Corres\"   \n",
            "3   4  B000UA0QIQ  A395BORC6FGVXV                             Karl   \n",
            "4   5  B006K2ZZ7K  A1UQRSCLF8GW1T    Michael D. Bigham \"M. Wassir\"   \n",
            "\n",
            "   HelpfulnessNumerator  HelpfulnessDenominator  Score        Time  \\\n",
            "0                     1                       1      5  1303862400   \n",
            "1                     0                       0      1  1346976000   \n",
            "2                     1                       1      4  1219017600   \n",
            "3                     3                       3      2  1307923200   \n",
            "4                     0                       0      5  1350777600   \n",
            "\n",
            "                 Summary                                               Text  \n",
            "0  Good Quality Dog Food  I have bought several of the Vitality canned d...  \n",
            "1      Not as Advertised  Product arrived labeled as Jumbo Salted Peanut...  \n",
            "2  \"Delight\" says it all  This is a confection that has been around a fe...  \n",
            "3         Cough Medicine  If you are looking for the secret ingredient i...  \n",
            "4            Great taffy  Great taffy at a great price.  There was a wid...  \n",
            "Id                         0\n",
            "ProductId                  0\n",
            "UserId                     0\n",
            "ProfileName               16\n",
            "HelpfulnessNumerator       0\n",
            "HelpfulnessDenominator     0\n",
            "Score                      0\n",
            "Time                       0\n",
            "Summary                   27\n",
            "Text                       0\n",
            "dtype: int64\n",
            "                 Summary                                               Text\n",
            "0  Good Quality Dog Food  I have bought several of the Vitality canned d...\n",
            "1      Not as Advertised  Product arrived labeled as Jumbo Salted Peanut...\n",
            "2  \"Delight\" says it all  This is a confection that has been around a fe...\n",
            "3         Cough Medicine  If you are looking for the secret ingredient i...\n",
            "4            Great taffy  Great taffy at a great price.  There was a wid...\n",
            "('Review #', 1)\n",
            "Good Quality Dog Food\n",
            "I have bought several of the Vitality canned dog food products and have found them all to be of good quality. The product looks more like a stew than a processed meat and it smells better. My Labrador is finicky and she appreciates this product better than  most.\n",
            "()\n",
            "('Review #', 2)\n",
            "Not as Advertised\n",
            "Product arrived labeled as Jumbo Salted Peanuts...the peanuts were actually small sized unsalted. Not sure if this was an error or if the vendor intended to represent the product as \"Jumbo\".\n",
            "()\n",
            "('Review #', 3)\n",
            "\"Delight\" says it all\n",
            "This is a confection that has been around a few centuries.  It is a light, pillowy citrus gelatin with nuts - in this case Filberts. And it is cut into tiny squares and then liberally coated with powdered sugar.  And it is a tiny mouthful of heaven.  Not too chewy, and very flavorful.  I highly recommend this yummy treat.  If you are familiar with the story of C.S. Lewis' \"The Lion, The Witch, and The Wardrobe\" - this is the treat that seduces Edmund into selling out his Brother and Sisters to the Witch.\n",
            "()\n",
            "('Review #', 4)\n",
            "Cough Medicine\n",
            "If you are looking for the secret ingredient in Robitussin I believe I have found it.  I got this in addition to the Root Beer Extract I ordered (which was good) and made some cherry soda.  The flavor is very medicinal.\n",
            "()\n",
            "('Review #', 5)\n",
            "Great taffy\n",
            "Great taffy at a great price.  There was a wide assortment of yummy taffy.  Delivery was very quick.  If your a taffy lover, this is a deal.\n",
            "()\n"
          ],
          "name": "stdout"
        }
      ]
    },
    {
      "cell_type": "code",
      "metadata": {
        "id": "UU4XSRzgungn",
        "colab": {
          "base_uri": "https://localhost:8080/",
          "height": 34
        },
        "outputId": "884a1d1f-ed5f-4d0b-af97-199b621018b4"
      },
      "source": [
        "print(open('review_dataset.pkl', 'wb'))"
      ],
      "execution_count": null,
      "outputs": [
        {
          "output_type": "stream",
          "text": [
            "<open file 'review_dataset.pkl', mode 'wb' at 0x7f3a670324b0>\n"
          ],
          "name": "stdout"
        }
      ]
    }
  ]
}